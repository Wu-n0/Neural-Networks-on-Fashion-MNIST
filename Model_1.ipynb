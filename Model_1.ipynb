{
  "nbformat": 4,
  "nbformat_minor": 0,
  "metadata": {
    "colab": {
      "name": "Model_1.ipynb",
      "provenance": [],
      "collapsed_sections": []
    },
    "kernelspec": {
      "display_name": "Python 3",
      "name": "python3"
    }
  },
  "cells": [
    {
      "cell_type": "code",
      "metadata": {
        "id": "FZHO-zF-c7fS"
      },
      "source": [
        "import numpy as np\n",
        "import tensorflow as tf\n",
        "from tensorflow import keras\n",
        "import matplotlib.pyplot as plt\n",
        "%matplotlib inline"
      ],
      "execution_count": null,
      "outputs": []
    },
    {
      "cell_type": "code",
      "metadata": {
        "id": "IUtnvMsggQen"
      },
      "source": [
        "(X_train, y_train), (X_test, y_test) = tf.keras.datasets.fashion_mnist.load_data()"
      ],
      "execution_count": null,
      "outputs": []
    },
    {
      "cell_type": "code",
      "metadata": {
        "colab": {
          "base_uri": "https://localhost:8080/"
        },
        "id": "zoQEMHUygQiA",
        "outputId": "7251d51a-05f4-4cd2-f33b-12790887c28d"
      },
      "source": [
        "print(X_train.shape, y_train.shape, X_test.shape, y_test.shape)"
      ],
      "execution_count": null,
      "outputs": [
        {
          "output_type": "stream",
          "name": "stdout",
          "text": [
            "(60000, 28, 28) (60000,) (10000, 28, 28) (10000,)\n"
          ]
        }
      ]
    },
    {
      "cell_type": "code",
      "metadata": {
        "colab": {
          "base_uri": "https://localhost:8080/",
          "height": 282
        },
        "id": "wfWwgYNigQkv",
        "outputId": "37724d58-5b5f-4b17-a991-8553dca85155"
      },
      "source": [
        "plt.imshow(X_train[2])"
      ],
      "execution_count": null,
      "outputs": [
        {
          "output_type": "execute_result",
          "data": {
            "text/plain": [
              "<matplotlib.image.AxesImage at 0x7f98bd376f50>"
            ]
          },
          "metadata": {},
          "execution_count": 4
        },
        {
          "output_type": "display_data",
          "data": {
            "image/png": "[encoded data removed]",
            "text/plain": [
              "<Figure size 432x288 with 1 Axes>"
            ]
          },
          "metadata": {
            "needs_background": "light"
          }
        }
      ]
    },
    {
      "cell_type": "code",
      "metadata": {
        "id": "VR2xtdqmgQnV"
      },
      "source": [
        "X_train = X_train.reshape(60000,-1)\n",
        "X_test = X_test.reshape(10000,-1)"
      ],
      "execution_count": null,
      "outputs": []
    },
    {
      "cell_type": "code",
      "metadata": {
        "id": "3tVAA-_bgQp-"
      },
      "source": [
        "from sklearn.preprocessing import StandardScaler\n",
        "scaler = StandardScaler()\n",
        "scaler.fit(X_train)\n",
        "X_train = scaler.transform(X_train)\n",
        "X_test = scaler.transform(X_test)"
      ],
      "execution_count": null,
      "outputs": []
    },
    {
      "cell_type": "code",
      "metadata": {
        "id": "hytTW1p_gQsi"
      },
      "source": [
        "y_train = tf.keras.utils.to_categorical(y_train)\n",
        "y_test = tf.keras.utils.to_categorical(y_test)"
      ],
      "execution_count": null,
      "outputs": []
    },
    {
      "cell_type": "code",
      "metadata": {
        "id": "tbymt0JiMXRD"
      },
      "source": [
        "from timeit import default_timer as timer\n",
        "\n",
        "class TimingCallback(keras.callbacks.Callback):\n",
        "    def __init__(self, logs={}):\n",
        "        self.logs=[]\n",
        "    def on_epoch_begin(self, epoch, logs={}):\n",
        "        self.starttime = timer()\n",
        "    def on_epoch_end(self, epoch, logs={}):\n",
        "        self.logs.append(timer()-self.starttime)\n",
        "\n",
        "cb = TimingCallback()"
      ],
      "execution_count": null,
      "outputs": []
    },
    {
      "cell_type": "code",
      "metadata": {
        "colab": {
          "base_uri": "https://localhost:8080/"
        },
        "id": "6c8Yv19PgQw9",
        "outputId": "67139a27-66b0-4026-fc64-8d8ffe18ac92"
      },
      "source": [
        "tf.keras.backend.clear_session()\n",
        "model = tf.keras.Sequential()\n",
        "model.add(tf.keras.layers.Input(shape=784,))\n",
        "model.add(tf.keras.layers.Dense(units = 64,activation='relu',activity_regularizer=tf.keras.regularizers.l2(0.01)))\n",
        "model.add(tf.keras.layers.Dense(units = 32,activation='relu',activity_regularizer=tf.keras.regularizers.l2(0.01)))\n",
        "model.add(tf.keras.layers.Dropout(0.200))\n",
        "model.add(tf.keras.layers.Dense(units=10,activation='softmax'))\n",
        "model.summary()"
      ],
      "execution_count": null,
      "outputs": [
        {
          "output_type": "stream",
          "name": "stdout",
          "text": [
            "Model: \"sequential\"\n",
            "_________________________________________________________________\n",
            "Layer (type)                 Output Shape              Param #   \n",
            "=================================================================\n",
            "dense (Dense)                (None, 64)                50240     \n",
            "_________________________________________________________________\n",
            "dense_1 (Dense)              (None, 32)                2080      \n",
            "_________________________________________________________________\n",
            "dropout (Dropout)            (None, 32)                0         \n",
            "_________________________________________________________________\n",
            "dense_2 (Dense)              (None, 10)                330       \n",
            "=================================================================\n",
            "Total params: 52,650\n",
            "Trainable params: 52,650\n",
            "Non-trainable params: 0\n",
            "_________________________________________________________________\n"
          ]
        }
      ]
    },
    {
      "cell_type": "code",
      "metadata": {
        "colab": {
          "base_uri": "https://localhost:8080/"
        },
        "id": "ZFSV8SmpgQ4G",
        "outputId": "2c3f907c-a5d4-4c55-d659-c7835173179f"
      },
      "source": [
        "model.compile(optimizer=tf.keras.optimizers.Adam(learning_rate=0.0005),loss='categorical_crossentropy',metrics=['accuracy'])\n",
        "model_history = model.fit(X_train,y_train,batch_size=32,epochs=30,validation_data=(X_test,y_test),callbacks=[cb])\n",
        "print(\"Total training time = \" + str(sum(cb.logs)))"
      ],
      "execution_count": null,
      "outputs": [
        {
          "output_type": "stream",
          "name": "stdout",
          "text": [
            "Epoch 1/30\n",
            "1875/1875 [==============================] - 5s 2ms/step - loss: 1.0610 - accuracy: 0.7951 - val_loss: 0.7651 - val_accuracy: 0.8314\n",
            "Epoch 2/30\n",
            "1875/1875 [==============================] - 4s 2ms/step - loss: 0.6963 - accuracy: 0.8446 - val_loss: 0.6316 - val_accuracy: 0.8520\n",
            "Epoch 3/30\n",
            "1875/1875 [==============================] - 4s 2ms/step - loss: 0.5951 - accuracy: 0.8587 - val_loss: 0.6079 - val_accuracy: 0.8456\n",
            "Epoch 4/30\n",
            "1875/1875 [==============================] - 4s 2ms/step - loss: 0.5388 - accuracy: 0.8688 - val_loss: 0.5326 - val_accuracy: 0.8567\n",
            "Epoch 5/30\n",
            "1875/1875 [==============================] - 4s 2ms/step - loss: 0.5071 - accuracy: 0.8727 - val_loss: 0.5438 - val_accuracy: 0.8557\n",
            "Epoch 6/30\n",
            "1875/1875 [==============================] - 4s 2ms/step - loss: 0.4765 - accuracy: 0.8790 - val_loss: 0.5783 - val_accuracy: 0.8430\n",
            "Epoch 7/30\n",
            "1875/1875 [==============================] - 4s 2ms/step - loss: 0.4543 - accuracy: 0.8837 - val_loss: 0.5235 - val_accuracy: 0.8519\n",
            "Epoch 8/30\n",
            "1875/1875 [==============================] - 4s 2ms/step - loss: 0.4372 - accuracy: 0.8864 - val_loss: 0.5197 - val_accuracy: 0.8612\n",
            "Epoch 9/30\n",
            "1875/1875 [==============================] - 4s 2ms/step - loss: 0.4280 - accuracy: 0.8883 - val_loss: 0.5058 - val_accuracy: 0.8646\n",
            "Epoch 10/30\n",
            "1875/1875 [==============================] - 4s 2ms/step - loss: 0.4137 - accuracy: 0.8924 - val_loss: 0.4818 - val_accuracy: 0.8656\n",
            "Epoch 11/30\n",
            "1875/1875 [==============================] - 4s 2ms/step - loss: 0.4052 - accuracy: 0.8963 - val_loss: 0.5014 - val_accuracy: 0.8606\n",
            "Epoch 12/30\n",
            "1875/1875 [==============================] - 4s 2ms/step - loss: 0.3986 - accuracy: 0.8971 - val_loss: 0.5054 - val_accuracy: 0.8626\n",
            "Epoch 13/30\n",
            "1875/1875 [==============================] - 4s 2ms/step - loss: 0.3886 - accuracy: 0.8982 - val_loss: 0.4998 - val_accuracy: 0.8641\n",
            "Epoch 14/30\n",
            "1875/1875 [==============================] - 4s 2ms/step - loss: 0.3822 - accuracy: 0.9004 - val_loss: 0.4984 - val_accuracy: 0.8633\n",
            "Epoch 15/30\n",
            "1875/1875 [==============================] - 4s 2ms/step - loss: 0.3779 - accuracy: 0.9001 - val_loss: 0.4856 - val_accuracy: 0.8633\n",
            "Epoch 16/30\n",
            "1875/1875 [==============================] - 4s 2ms/step - loss: 0.3690 - accuracy: 0.9045 - val_loss: 0.5070 - val_accuracy: 0.8565\n",
            "Epoch 17/30\n",
            "1875/1875 [==============================] - 4s 2ms/step - loss: 0.3625 - accuracy: 0.9060 - val_loss: 0.4924 - val_accuracy: 0.8637\n",
            "Epoch 18/30\n",
            "1875/1875 [==============================] - 4s 2ms/step - loss: 0.3603 - accuracy: 0.9079 - val_loss: 0.4971 - val_accuracy: 0.8635\n",
            "Epoch 19/30\n",
            "1875/1875 [==============================] - 4s 2ms/step - loss: 0.3532 - accuracy: 0.9088 - val_loss: 0.5193 - val_accuracy: 0.8612\n",
            "Epoch 20/30\n",
            "1875/1875 [==============================] - 4s 2ms/step - loss: 0.3505 - accuracy: 0.9101 - val_loss: 0.5120 - val_accuracy: 0.8612\n",
            "Epoch 21/30\n",
            "1875/1875 [==============================] - 4s 2ms/step - loss: 0.3398 - accuracy: 0.9127 - val_loss: 0.5297 - val_accuracy: 0.8570\n",
            "Epoch 22/30\n",
            "1875/1875 [==============================] - 4s 2ms/step - loss: 0.3390 - accuracy: 0.9136 - val_loss: 0.5215 - val_accuracy: 0.8594\n",
            "Epoch 23/30\n",
            "1875/1875 [==============================] - 4s 2ms/step - loss: 0.3368 - accuracy: 0.9135 - val_loss: 0.5035 - val_accuracy: 0.8682\n",
            "Epoch 24/30\n",
            "1875/1875 [==============================] - 4s 2ms/step - loss: 0.3321 - accuracy: 0.9159 - val_loss: 0.5031 - val_accuracy: 0.8635\n",
            "Epoch 25/30\n",
            "1875/1875 [==============================] - 4s 2ms/step - loss: 0.3323 - accuracy: 0.9144 - val_loss: 0.5127 - val_accuracy: 0.8580\n",
            "Epoch 26/30\n",
            "1875/1875 [==============================] - 4s 2ms/step - loss: 0.3267 - accuracy: 0.9185 - val_loss: 0.5292 - val_accuracy: 0.8587\n",
            "Epoch 27/30\n",
            "1875/1875 [==============================] - 4s 2ms/step - loss: 0.3268 - accuracy: 0.9164 - val_loss: 0.4879 - val_accuracy: 0.8686\n",
            "Epoch 28/30\n",
            "1875/1875 [==============================] - 4s 2ms/step - loss: 0.3217 - accuracy: 0.9178 - val_loss: 0.5211 - val_accuracy: 0.8659\n",
            "Epoch 29/30\n",
            "1875/1875 [==============================] - 4s 2ms/step - loss: 0.3221 - accuracy: 0.9193 - val_loss: 0.5129 - val_accuracy: 0.8624\n",
            "Epoch 30/30\n",
            "1875/1875 [==============================] - 4s 2ms/step - loss: 0.3174 - accuracy: 0.9207 - val_loss: 0.5205 - val_accuracy: 0.8604\n",
            "Total training time = 112.59780620599986\n"
          ]
        }
      ]
    },
    {
      "cell_type": "code",
      "metadata": {
        "colab": {
          "base_uri": "https://localhost:8080/",
          "height": 296
        },
        "id": "JF3P10kSzEMk",
        "outputId": "17c30054-29eb-41b1-b80d-c5871e07911d"
      },
      "source": [
        "plt.plot(model_history.history['loss'],label='Training Loss')\n",
        "plt.plot(model_history.history['val_loss'],label='Validation Loss')\n",
        "plt.xlabel('Epochs')\n",
        "plt.ylabel('Loss')\n",
        "plt.legend()"
      ],
      "execution_count": null,
      "outputs": [
        {
          "output_type": "execute_result",
          "data": {
            "text/plain": [
              "<matplotlib.legend.Legend at 0x7f98aff75d90>"
            ]
          },
          "metadata": {},
          "execution_count": 11
        },
        {
          "output_type": "display_data",
          "data": {
            "image/png": "[encoded data removed]",
            "text/plain": [
              "<Figure size 432x288 with 1 Axes>"
            ]
          },
          "metadata": {
            "needs_background": "light"
          }
        }
      ]
    },
    {
      "cell_type": "code",
      "metadata": {
        "colab": {
          "base_uri": "https://localhost:8080/",
          "height": 296
        },
        "id": "SzMJfbHgzp-h",
        "outputId": "03547b10-51f0-4c74-c251-1dbd3a94f148"
      },
      "source": [
        "plt.plot(model_history.history['accuracy'],label='Training Accuracy')\n",
        "plt.plot(model_history.history['val_accuracy'],label='Validation Accuracy')\n",
        "plt.xlabel('Epochs')\n",
        "plt.ylabel('Accuracy')\n",
        "plt.legend()"
      ],
      "execution_count": null,
      "outputs": [
        {
          "output_type": "execute_result",
          "data": {
            "text/plain": [
              "<matplotlib.legend.Legend at 0x7f98b172e250>"
            ]
          },
          "metadata": {},
          "execution_count": 12
        },
        {
          "output_type": "display_data",
          "data": {
            "image/png": "[encoded data removed]",
            "text/plain": [
              "<Figure size 432x288 with 1 Axes>"
            ]
          },
          "metadata": {
            "needs_background": "light"
          }
        }
      ]
    }
  ]
}