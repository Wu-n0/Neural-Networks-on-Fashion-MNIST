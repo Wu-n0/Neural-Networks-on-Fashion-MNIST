{
  "nbformat": 4,
  "nbformat_minor": 0,
  "metadata": {
    "colab": {
      "name": "Model_16.ipynb",
      "provenance": [],
      "collapsed_sections": []
    },
    "kernelspec": {
      "name": "python3",
      "display_name": "Python 3"
    }
  },
  "cells": [
    {
      "cell_type": "code",
      "metadata": {
        "id": "FZHO-zF-c7fS"
      },
      "source": [
        "import numpy as np\n",
        "import tensorflow as tf\n",
        "from tensorflow import keras\n",
        "import matplotlib.pyplot as plt\n",
        "%matplotlib inline"
      ],
      "execution_count": null,
      "outputs": []
    },
    {
      "cell_type": "code",
      "metadata": {
        "id": "IUtnvMsggQen",
        "colab": {
          "base_uri": "https://localhost:8080/"
        },
        "outputId": "4eadb8a1-d9ef-4c36-960d-6a12ccb62251"
      },
      "source": [
        "(X_train, y_train), (X_test, y_test) = tf.keras.datasets.fashion_mnist.load_data()"
      ],
      "execution_count": null,
      "outputs": [
        {
          "output_type": "stream",
          "name": "stdout",
          "text": [
            "Downloading data from https://storage.googleapis.com/tensorflow/tf-keras-datasets/train-labels-idx1-ubyte.gz\n",
            "32768/29515 [=================================] - 0s 0us/step\n",
            "40960/29515 [=========================================] - 0s 0us/step\n",
            "Downloading data from https://storage.googleapis.com/tensorflow/tf-keras-datasets/train-images-idx3-ubyte.gz\n",
            "26427392/26421880 [==============================] - 0s 0us/step\n",
            "26435584/26421880 [==============================] - 0s 0us/step\n",
            "Downloading data from https://storage.googleapis.com/tensorflow/tf-keras-datasets/t10k-labels-idx1-ubyte.gz\n",
            "16384/5148 [===============================================================================================] - 0s 0us/step\n",
            "Downloading data from https://storage.googleapis.com/tensorflow/tf-keras-datasets/t10k-images-idx3-ubyte.gz\n",
            "4423680/4422102 [==============================] - 0s 0us/step\n",
            "4431872/4422102 [==============================] - 0s 0us/step\n"
          ]
        }
      ]
    },
    {
      "cell_type": "code",
      "metadata": {
        "id": "zoQEMHUygQiA",
        "colab": {
          "base_uri": "https://localhost:8080/"
        },
        "outputId": "1b05ef46-31ed-4e13-bac1-4a72fd783056"
      },
      "source": [
        "print(X_train.shape, y_train.shape, X_test.shape, y_test.shape)"
      ],
      "execution_count": null,
      "outputs": [
        {
          "output_type": "stream",
          "name": "stdout",
          "text": [
            "(60000, 28, 28) (60000,) (10000, 28, 28) (10000,)\n"
          ]
        }
      ]
    },
    {
      "cell_type": "code",
      "metadata": {
        "id": "wfWwgYNigQkv",
        "colab": {
          "base_uri": "https://localhost:8080/",
          "height": 283
        },
        "outputId": "abad6b4e-a123-4c7f-d66f-1704fdd74a7d"
      },
      "source": [
        "plt.imshow(X_train[2])"
      ],
      "execution_count": null,
      "outputs": [
        {
          "output_type": "execute_result",
          "data": {
            "text/plain": [
              "<matplotlib.image.AxesImage at 0x7fe1665608d0>"
            ]
          },
          "metadata": {},
          "execution_count": 4
        },
        {
          "output_type": "display_data",
          "data": {
            "image/png": "[encoded data removed]",
            "text/plain": [
              "<Figure size 432x288 with 1 Axes>"
            ]
          },
          "metadata": {
            "needs_background": "light"
          }
        }
      ]
    },
    {
      "cell_type": "code",
      "metadata": {
        "id": "VR2xtdqmgQnV"
      },
      "source": [
        "X_train = X_train.reshape(60000,-1)\n",
        "X_test = X_test.reshape(10000,-1)"
      ],
      "execution_count": null,
      "outputs": []
    },
    {
      "cell_type": "code",
      "metadata": {
        "id": "3tVAA-_bgQp-"
      },
      "source": [
        "from sklearn.preprocessing import StandardScaler\n",
        "scaler = StandardScaler()\n",
        "scaler.fit(X_train)\n",
        "X_train = scaler.transform(X_train)\n",
        "X_test = scaler.transform(X_test)"
      ],
      "execution_count": null,
      "outputs": []
    },
    {
      "cell_type": "code",
      "metadata": {
        "id": "hytTW1p_gQsi"
      },
      "source": [
        "y_train = tf.keras.utils.to_categorical(y_train)\n",
        "y_test = tf.keras.utils.to_categorical(y_test)"
      ],
      "execution_count": null,
      "outputs": []
    },
    {
      "cell_type": "code",
      "metadata": {
        "id": "tbymt0JiMXRD"
      },
      "source": [
        "from timeit import default_timer as timer\n",
        "\n",
        "class TimingCallback(keras.callbacks.Callback):\n",
        "    def __init__(self, logs={}):\n",
        "        self.logs=[]\n",
        "    def on_epoch_begin(self, epoch, logs={}):\n",
        "        self.starttime = timer()\n",
        "    def on_epoch_end(self, epoch, logs={}):\n",
        "        self.logs.append(timer()-self.starttime)\n",
        "\n",
        "cb = TimingCallback()"
      ],
      "execution_count": null,
      "outputs": []
    },
    {
      "cell_type": "code",
      "metadata": {
        "id": "6c8Yv19PgQw9",
        "colab": {
          "base_uri": "https://localhost:8080/"
        },
        "outputId": "d24e4958-69f9-490c-df56-191aadb5432a"
      },
      "source": [
        "tf.keras.backend.clear_session()\n",
        "model = tf.keras.Sequential()\n",
        "model.add(tf.keras.layers.Input(shape=784,))\n",
        "model.add(tf.keras.layers.Dense(units = 1028,activation='sigmoid',activity_regularizer=tf.keras.regularizers.l2(0.01)))\n",
        "model.add(tf.keras.layers.Dense(units = 512,activation='sigmoid',activity_regularizer=tf.keras.regularizers.l2(0.01)))\n",
        "model.add(tf.keras.layers.Dense(units = 256,activation='sigmoid',activity_regularizer=tf.keras.regularizers.l2(0.01)))\n",
        "model.add(tf.keras.layers.Dense(units = 128,activation='sigmoid',activity_regularizer=tf.keras.regularizers.l2(0.01)))\n",
        "model.add(tf.keras.layers.Dense(units = 64,activation='sigmoid',activity_regularizer=tf.keras.regularizers.l2(0.01)))\n",
        "model.add(tf.keras.layers.Dropout(0.200))\n",
        "model.add(tf.keras.layers.Dense(units=10,activation='softmax'))\n",
        "model.summary()"
      ],
      "execution_count": null,
      "outputs": [
        {
          "output_type": "stream",
          "name": "stdout",
          "text": [
            "Model: \"sequential\"\n",
            "_________________________________________________________________\n",
            "Layer (type)                 Output Shape              Param #   \n",
            "=================================================================\n",
            "dense (Dense)                (None, 1028)              806980    \n",
            "_________________________________________________________________\n",
            "dense_1 (Dense)              (None, 512)               526848    \n",
            "_________________________________________________________________\n",
            "dense_2 (Dense)              (None, 256)               131328    \n",
            "_________________________________________________________________\n",
            "dense_3 (Dense)              (None, 128)               32896     \n",
            "_________________________________________________________________\n",
            "dense_4 (Dense)              (None, 64)                8256      \n",
            "_________________________________________________________________\n",
            "dropout (Dropout)            (None, 64)                0         \n",
            "_________________________________________________________________\n",
            "dense_5 (Dense)              (None, 10)                650       \n",
            "=================================================================\n",
            "Total params: 1,506,958\n",
            "Trainable params: 1,506,958\n",
            "Non-trainable params: 0\n",
            "_________________________________________________________________\n"
          ]
        }
      ]
    },
    {
      "cell_type": "code",
      "metadata": {
        "id": "ZFSV8SmpgQ4G",
        "colab": {
          "base_uri": "https://localhost:8080/"
        },
        "outputId": "f5f313e7-b0e1-4b8f-d8d9-cf6a3de166f1"
      },
      "source": [
        "model.compile(optimizer=tf.keras.optimizers.Adam(learning_rate=0.0005),loss='categorical_crossentropy',metrics=['accuracy'])\n",
        "model_history = model.fit(X_train,y_train,batch_size=32,epochs=30,validation_data=(X_test,y_test),callbacks=[cb])\n",
        "print(\"Total training time = \" + str(sum(cb.logs)))"
      ],
      "execution_count": null,
      "outputs": [
        {
          "output_type": "stream",
          "name": "stdout",
          "text": [
            "Epoch 1/30\n",
            "1875/1875 [==============================] - 31s 16ms/step - loss: 3.6505 - accuracy: 0.2471 - val_loss: 2.5837 - val_accuracy: 0.4437\n",
            "Epoch 2/30\n",
            "1875/1875 [==============================] - 29s 16ms/step - loss: 2.1963 - accuracy: 0.4616 - val_loss: 1.8670 - val_accuracy: 0.6189\n",
            "Epoch 3/30\n",
            "1875/1875 [==============================] - 29s 15ms/step - loss: 1.6729 - accuracy: 0.6029 - val_loss: 1.4780 - val_accuracy: 0.7019\n",
            "Epoch 4/30\n",
            "1875/1875 [==============================] - 29s 15ms/step - loss: 1.3840 - accuracy: 0.6835 - val_loss: 1.3478 - val_accuracy: 0.6837\n",
            "Epoch 5/30\n",
            "1875/1875 [==============================] - 29s 15ms/step - loss: 1.1912 - accuracy: 0.7588 - val_loss: 1.1228 - val_accuracy: 0.7955\n",
            "Epoch 6/30\n",
            "1875/1875 [==============================] - 29s 15ms/step - loss: 0.9983 - accuracy: 0.8203 - val_loss: 0.9338 - val_accuracy: 0.8339\n",
            "Epoch 7/30\n",
            "1875/1875 [==============================] - 28s 15ms/step - loss: 0.8657 - accuracy: 0.8446 - val_loss: 0.8372 - val_accuracy: 0.8487\n",
            "Epoch 8/30\n",
            "1875/1875 [==============================] - 28s 15ms/step - loss: 0.7816 - accuracy: 0.8589 - val_loss: 0.7957 - val_accuracy: 0.8483\n",
            "Epoch 9/30\n",
            "1875/1875 [==============================] - 28s 15ms/step - loss: 0.7219 - accuracy: 0.8706 - val_loss: 0.7428 - val_accuracy: 0.8582\n",
            "Epoch 10/30\n",
            "1875/1875 [==============================] - 28s 15ms/step - loss: 0.6762 - accuracy: 0.8788 - val_loss: 0.7048 - val_accuracy: 0.8620\n",
            "Epoch 11/30\n",
            "1875/1875 [==============================] - 29s 15ms/step - loss: 0.6360 - accuracy: 0.8852 - val_loss: 0.6953 - val_accuracy: 0.8575\n",
            "Epoch 12/30\n",
            "1875/1875 [==============================] - 30s 16ms/step - loss: 0.6012 - accuracy: 0.8929 - val_loss: 0.6629 - val_accuracy: 0.8644\n",
            "Epoch 13/30\n",
            "1875/1875 [==============================] - 29s 15ms/step - loss: 0.5732 - accuracy: 0.8986 - val_loss: 0.6660 - val_accuracy: 0.8585\n",
            "Epoch 14/30\n",
            "1875/1875 [==============================] - 29s 15ms/step - loss: 0.5466 - accuracy: 0.9038 - val_loss: 0.6532 - val_accuracy: 0.8656\n",
            "Epoch 15/30\n",
            "1875/1875 [==============================] - 29s 15ms/step - loss: 0.5241 - accuracy: 0.9081 - val_loss: 0.6350 - val_accuracy: 0.8669\n",
            "Epoch 16/30\n",
            "1875/1875 [==============================] - 29s 15ms/step - loss: 0.5028 - accuracy: 0.9111 - val_loss: 0.6281 - val_accuracy: 0.8677\n",
            "Epoch 17/30\n",
            "1875/1875 [==============================] - 29s 15ms/step - loss: 0.4829 - accuracy: 0.9160 - val_loss: 0.6167 - val_accuracy: 0.8734\n",
            "Epoch 18/30\n",
            "1875/1875 [==============================] - 29s 15ms/step - loss: 0.4620 - accuracy: 0.9209 - val_loss: 0.6332 - val_accuracy: 0.8681\n",
            "Epoch 19/30\n",
            "1875/1875 [==============================] - 29s 15ms/step - loss: 0.4454 - accuracy: 0.9263 - val_loss: 0.6489 - val_accuracy: 0.8641\n",
            "Epoch 20/30\n",
            "1875/1875 [==============================] - 28s 15ms/step - loss: 0.4299 - accuracy: 0.9297 - val_loss: 0.6531 - val_accuracy: 0.8695\n",
            "Epoch 21/30\n",
            "1875/1875 [==============================] - 28s 15ms/step - loss: 0.4184 - accuracy: 0.9315 - val_loss: 0.6450 - val_accuracy: 0.8720\n",
            "Epoch 22/30\n",
            "1875/1875 [==============================] - 29s 16ms/step - loss: 0.4012 - accuracy: 0.9375 - val_loss: 0.6495 - val_accuracy: 0.8696\n",
            "Epoch 23/30\n",
            "1875/1875 [==============================] - 29s 15ms/step - loss: 0.3878 - accuracy: 0.9402 - val_loss: 0.6491 - val_accuracy: 0.8724\n",
            "Epoch 24/30\n",
            "1875/1875 [==============================] - 29s 15ms/step - loss: 0.3738 - accuracy: 0.9449 - val_loss: 0.6741 - val_accuracy: 0.8655\n",
            "Epoch 25/30\n",
            "1875/1875 [==============================] - 29s 15ms/step - loss: 0.3626 - accuracy: 0.9480 - val_loss: 0.6431 - val_accuracy: 0.8733\n",
            "Epoch 26/30\n",
            "1875/1875 [==============================] - 29s 16ms/step - loss: 0.3526 - accuracy: 0.9490 - val_loss: 0.6374 - val_accuracy: 0.8739\n",
            "Epoch 27/30\n",
            "1875/1875 [==============================] - 29s 15ms/step - loss: 0.3414 - accuracy: 0.9518 - val_loss: 0.6637 - val_accuracy: 0.8723\n",
            "Epoch 28/30\n",
            "1875/1875 [==============================] - 29s 15ms/step - loss: 0.3322 - accuracy: 0.9553 - val_loss: 0.6861 - val_accuracy: 0.8696\n",
            "Epoch 29/30\n",
            "1875/1875 [==============================] - 29s 15ms/step - loss: 0.3253 - accuracy: 0.9566 - val_loss: 0.6741 - val_accuracy: 0.8696\n",
            "Epoch 30/30\n",
            "1875/1875 [==============================] - 28s 15ms/step - loss: 0.3164 - accuracy: 0.9579 - val_loss: 0.6852 - val_accuracy: 0.8730\n",
            "Total training time = 862.942119826\n"
          ]
        }
      ]
    },
    {
      "cell_type": "code",
      "metadata": {
        "id": "JF3P10kSzEMk",
        "colab": {
          "base_uri": "https://localhost:8080/",
          "height": 297
        },
        "outputId": "f044e9af-4e5b-4988-c0fe-8391ff59a892"
      },
      "source": [
        "plt.plot(model_history.history['loss'],label='Training Loss')\n",
        "plt.plot(model_history.history['val_loss'],label='Validation Loss')\n",
        "plt.xlabel('Epochs')\n",
        "plt.ylabel('Loss')\n",
        "plt.legend()"
      ],
      "execution_count": null,
      "outputs": [
        {
          "output_type": "execute_result",
          "data": {
            "text/plain": [
              "<matplotlib.legend.Legend at 0x7fe15610cd10>"
            ]
          },
          "metadata": {},
          "execution_count": 12
        },
        {
          "output_type": "display_data",
          "data": {
            "image/png": "[encoded data removed]",
            "text/plain": [
              "<Figure size 432x288 with 1 Axes>"
            ]
          },
          "metadata": {
            "needs_background": "light"
          }
        }
      ]
    },
    {
      "cell_type": "code",
      "metadata": {
        "id": "SzMJfbHgzp-h",
        "colab": {
          "base_uri": "https://localhost:8080/",
          "height": 297
        },
        "outputId": "1298fb30-d5fa-4146-efee-bdcf2713d00f"
      },
      "source": [
        "plt.plot(model_history.history['accuracy'],label='Training Accuracy')\n",
        "plt.plot(model_history.history['val_accuracy'],label='Validation Accuracy')\n",
        "plt.xlabel('Epochs')\n",
        "plt.ylabel('Accuracy')\n",
        "plt.legend()"
      ],
      "execution_count": null,
      "outputs": [
        {
          "output_type": "execute_result",
          "data": {
            "text/plain": [
              "<matplotlib.legend.Legend at 0x7fe15a93db10>"
            ]
          },
          "metadata": {},
          "execution_count": 13
        },
        {
          "output_type": "display_data",
          "data": {
            "image/png": "[encoded data removed]",
            "text/plain": [
              "<Figure size 432x288 with 1 Axes>"
            ]
          },
          "metadata": {
            "needs_background": "light"
          }
        }
      ]
    }
  ]
}