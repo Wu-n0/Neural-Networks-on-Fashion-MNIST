{
  "nbformat": 4,
  "nbformat_minor": 0,
  "metadata": {
    "colab": {
      "name": "Model 14.ipynb",
      "provenance": [],
      "collapsed_sections": []
    },
    "kernelspec": {
      "name": "python3",
      "display_name": "Python 3"
    }
  },
  "cells": [
    {
      "cell_type": "code",
      "metadata": {
        "id": "FZHO-zF-c7fS"
      },
      "source": [
        "import numpy as np\n",
        "import tensorflow as tf\n",
        "from tensorflow import keras\n",
        "import matplotlib.pyplot as plt\n",
        "%matplotlib inline"
      ],
      "execution_count": null,
      "outputs": []
    },
    {
      "cell_type": "code",
      "metadata": {
        "id": "IUtnvMsggQen",
        "colab": {
          "base_uri": "https://localhost:8080/"
        },
        "outputId": "d3e9153f-714f-4b14-a7dc-6a24c7ab9592"
      },
      "source": [
        "(X_train, y_train), (X_test, y_test) = tf.keras.datasets.fashion_mnist.load_data()"
      ],
      "execution_count": null,
      "outputs": [
        {
          "output_type": "stream",
          "name": "stdout",
          "text": [
            "Downloading data from https://storage.googleapis.com/tensorflow/tf-keras-datasets/train-labels-idx1-ubyte.gz\n",
            "32768/29515 [=================================] - 0s 0us/step\n",
            "40960/29515 [=========================================] - 0s 0us/step\n",
            "Downloading data from https://storage.googleapis.com/tensorflow/tf-keras-datasets/train-images-idx3-ubyte.gz\n",
            "26427392/26421880 [==============================] - 0s 0us/step\n",
            "26435584/26421880 [==============================] - 0s 0us/step\n",
            "Downloading data from https://storage.googleapis.com/tensorflow/tf-keras-datasets/t10k-labels-idx1-ubyte.gz\n",
            "16384/5148 [===============================================================================================] - 0s 0us/step\n",
            "Downloading data from https://storage.googleapis.com/tensorflow/tf-keras-datasets/t10k-images-idx3-ubyte.gz\n",
            "4423680/4422102 [==============================] - 0s 0us/step\n",
            "4431872/4422102 [==============================] - 0s 0us/step\n"
          ]
        }
      ]
    },
    {
      "cell_type": "code",
      "metadata": {
        "id": "zoQEMHUygQiA",
        "colab": {
          "base_uri": "https://localhost:8080/"
        },
        "outputId": "91815644-06d3-4fac-f428-60d6a79f339a"
      },
      "source": [
        "print(X_train.shape, y_train.shape, X_test.shape, y_test.shape)"
      ],
      "execution_count": null,
      "outputs": [
        {
          "output_type": "stream",
          "name": "stdout",
          "text": [
            "(60000, 28, 28) (60000,) (10000, 28, 28) (10000,)\n"
          ]
        }
      ]
    },
    {
      "cell_type": "code",
      "metadata": {
        "id": "wfWwgYNigQkv",
        "colab": {
          "base_uri": "https://localhost:8080/",
          "height": 282
        },
        "outputId": "a8dd3310-7b5c-42ed-baeb-166ff9fccd1f"
      },
      "source": [
        "plt.imshow(X_train[2])"
      ],
      "execution_count": null,
      "outputs": [
        {
          "output_type": "execute_result",
          "data": {
            "text/plain": [
              "<matplotlib.image.AxesImage at 0x7f17081bb890>"
            ]
          },
          "metadata": {},
          "execution_count": 4
        },
        {
          "output_type": "display_data",
          "data": {
            "image/png": "[encoded data removed]",
            "text/plain": [
              "<Figure size 432x288 with 1 Axes>"
            ]
          },
          "metadata": {
            "needs_background": "light"
          }
        }
      ]
    },
    {
      "cell_type": "code",
      "metadata": {
        "id": "VR2xtdqmgQnV"
      },
      "source": [
        "X_train = X_train.reshape(60000,-1)\n",
        "X_test = X_test.reshape(10000,-1)"
      ],
      "execution_count": null,
      "outputs": []
    },
    {
      "cell_type": "code",
      "metadata": {
        "id": "3tVAA-_bgQp-"
      },
      "source": [
        "from sklearn.preprocessing import StandardScaler\n",
        "scaler = StandardScaler()\n",
        "scaler.fit(X_train)\n",
        "X_train = scaler.transform(X_train)\n",
        "X_test = scaler.transform(X_test)"
      ],
      "execution_count": null,
      "outputs": []
    },
    {
      "cell_type": "code",
      "metadata": {
        "id": "hytTW1p_gQsi"
      },
      "source": [
        "y_train = tf.keras.utils.to_categorical(y_train)\n",
        "y_test = tf.keras.utils.to_categorical(y_test)"
      ],
      "execution_count": null,
      "outputs": []
    },
    {
      "cell_type": "code",
      "metadata": {
        "id": "tbymt0JiMXRD"
      },
      "source": [
        "from timeit import default_timer as timer\n",
        "\n",
        "class TimingCallback(keras.callbacks.Callback):\n",
        "    def __init__(self, logs={}):\n",
        "        self.logs=[]\n",
        "    def on_epoch_begin(self, epoch, logs={}):\n",
        "        self.starttime = timer()\n",
        "    def on_epoch_end(self, epoch, logs={}):\n",
        "        self.logs.append(timer()-self.starttime)\n",
        "\n",
        "cb = TimingCallback()"
      ],
      "execution_count": null,
      "outputs": []
    },
    {
      "cell_type": "code",
      "metadata": {
        "id": "6c8Yv19PgQw9",
        "colab": {
          "base_uri": "https://localhost:8080/"
        },
        "outputId": "024b8bd1-0c8e-417b-df2d-a6219f6a8385"
      },
      "source": [
        "tf.keras.backend.clear_session()\n",
        "model = tf.keras.Sequential()\n",
        "model.add(tf.keras.layers.Input(shape=784,))\n",
        "model.add(tf.keras.layers.Dense(units = 128,activation='tanh',activity_regularizer=tf.keras.regularizers.l2(0.01)))\n",
        "model.add(tf.keras.layers.Dropout(0.200))\n",
        "model.add(tf.keras.layers.Dense(units=10,activation='softmax'))\n",
        "model.summary()"
      ],
      "execution_count": null,
      "outputs": [
        {
          "output_type": "stream",
          "name": "stdout",
          "text": [
            "Model: \"sequential\"\n",
            "_________________________________________________________________\n",
            "Layer (type)                 Output Shape              Param #   \n",
            "=================================================================\n",
            "dense (Dense)                (None, 128)               100480    \n",
            "_________________________________________________________________\n",
            "dropout (Dropout)            (None, 128)               0         \n",
            "_________________________________________________________________\n",
            "dense_1 (Dense)              (None, 10)                1290      \n",
            "=================================================================\n",
            "Total params: 101,770\n",
            "Trainable params: 101,770\n",
            "Non-trainable params: 0\n",
            "_________________________________________________________________\n"
          ]
        }
      ]
    },
    {
      "cell_type": "code",
      "metadata": {
        "id": "ZFSV8SmpgQ4G",
        "colab": {
          "base_uri": "https://localhost:8080/"
        },
        "outputId": "19f55e8f-be6a-464c-cdff-f27b31973e1d"
      },
      "source": [
        "model.compile(optimizer=tf.keras.optimizers.Adam(learning_rate=0.0005),loss='kullback_leibler_divergence',metrics=['accuracy'])\n",
        "model_history = model.fit(X_train,y_train,batch_size=32,epochs=30,validation_data=(X_test,y_test),callbacks=[cb])\n",
        "print(\"Total training time = \" + str(sum(cb.logs)))"
      ],
      "execution_count": null,
      "outputs": [
        {
          "output_type": "stream",
          "name": "stdout",
          "text": [
            "Epoch 1/30\n",
            "1875/1875 [==============================] - 7s 3ms/step - loss: 0.9504 - accuracy: 0.8157 - val_loss: 0.8222 - val_accuracy: 0.8362\n",
            "Epoch 2/30\n",
            "1875/1875 [==============================] - 6s 3ms/step - loss: 0.7796 - accuracy: 0.8387 - val_loss: 0.7725 - val_accuracy: 0.8310\n",
            "Epoch 3/30\n",
            "1875/1875 [==============================] - 6s 3ms/step - loss: 0.7235 - accuracy: 0.8425 - val_loss: 0.7219 - val_accuracy: 0.8404\n",
            "Epoch 4/30\n",
            "1875/1875 [==============================] - 6s 3ms/step - loss: 0.6824 - accuracy: 0.8494 - val_loss: 0.7111 - val_accuracy: 0.8350\n",
            "Epoch 5/30\n",
            "1875/1875 [==============================] - 5s 3ms/step - loss: 0.6525 - accuracy: 0.8526 - val_loss: 0.6735 - val_accuracy: 0.8366\n",
            "Epoch 6/30\n",
            "1875/1875 [==============================] - 6s 3ms/step - loss: 0.6348 - accuracy: 0.8545 - val_loss: 0.6488 - val_accuracy: 0.8414\n",
            "Epoch 7/30\n",
            "1875/1875 [==============================] - 6s 3ms/step - loss: 0.6162 - accuracy: 0.8571 - val_loss: 0.6542 - val_accuracy: 0.8392\n",
            "Epoch 8/30\n",
            "1875/1875 [==============================] - 5s 3ms/step - loss: 0.6028 - accuracy: 0.8583 - val_loss: 0.6361 - val_accuracy: 0.8433\n",
            "Epoch 9/30\n",
            "1875/1875 [==============================] - 5s 3ms/step - loss: 0.5895 - accuracy: 0.8612 - val_loss: 0.6183 - val_accuracy: 0.8489\n",
            "Epoch 10/30\n",
            "1875/1875 [==============================] - 5s 3ms/step - loss: 0.5802 - accuracy: 0.8613 - val_loss: 0.6026 - val_accuracy: 0.8516\n",
            "Epoch 11/30\n",
            "1875/1875 [==============================] - 5s 3ms/step - loss: 0.5737 - accuracy: 0.8623 - val_loss: 0.6067 - val_accuracy: 0.8482\n",
            "Epoch 12/30\n",
            "1875/1875 [==============================] - 5s 3ms/step - loss: 0.5688 - accuracy: 0.8640 - val_loss: 0.6078 - val_accuracy: 0.8480\n",
            "Epoch 13/30\n",
            "1875/1875 [==============================] - 5s 3ms/step - loss: 0.5619 - accuracy: 0.8647 - val_loss: 0.5924 - val_accuracy: 0.8539\n",
            "Epoch 14/30\n",
            "1875/1875 [==============================] - 6s 3ms/step - loss: 0.5550 - accuracy: 0.8671 - val_loss: 0.5987 - val_accuracy: 0.8495\n",
            "Epoch 15/30\n",
            "1875/1875 [==============================] - 5s 3ms/step - loss: 0.5545 - accuracy: 0.8655 - val_loss: 0.6108 - val_accuracy: 0.8468\n",
            "Epoch 16/30\n",
            "1875/1875 [==============================] - 5s 3ms/step - loss: 0.5473 - accuracy: 0.8686 - val_loss: 0.5898 - val_accuracy: 0.8527\n",
            "Epoch 17/30\n",
            "1875/1875 [==============================] - 5s 3ms/step - loss: 0.5438 - accuracy: 0.8683 - val_loss: 0.5931 - val_accuracy: 0.8489\n",
            "Epoch 18/30\n",
            "1875/1875 [==============================] - 5s 3ms/step - loss: 0.5451 - accuracy: 0.8689 - val_loss: 0.5890 - val_accuracy: 0.8517\n",
            "Epoch 19/30\n",
            "1875/1875 [==============================] - 5s 3ms/step - loss: 0.5401 - accuracy: 0.8692 - val_loss: 0.5873 - val_accuracy: 0.8542\n",
            "Epoch 20/30\n",
            "1875/1875 [==============================] - 5s 3ms/step - loss: 0.5379 - accuracy: 0.8698 - val_loss: 0.5879 - val_accuracy: 0.8514\n",
            "Epoch 21/30\n",
            "1875/1875 [==============================] - 5s 3ms/step - loss: 0.5340 - accuracy: 0.8720 - val_loss: 0.5912 - val_accuracy: 0.8499\n",
            "Epoch 22/30\n",
            "1875/1875 [==============================] - 6s 3ms/step - loss: 0.5349 - accuracy: 0.8711 - val_loss: 0.6168 - val_accuracy: 0.8487\n",
            "Epoch 23/30\n",
            "1875/1875 [==============================] - 5s 3ms/step - loss: 0.5310 - accuracy: 0.8724 - val_loss: 0.5939 - val_accuracy: 0.8549\n",
            "Epoch 24/30\n",
            "1875/1875 [==============================] - 5s 3ms/step - loss: 0.5302 - accuracy: 0.8715 - val_loss: 0.5820 - val_accuracy: 0.8514\n",
            "Epoch 25/30\n",
            "1875/1875 [==============================] - 5s 3ms/step - loss: 0.5280 - accuracy: 0.8729 - val_loss: 0.5714 - val_accuracy: 0.8583\n",
            "Epoch 26/30\n",
            "1875/1875 [==============================] - 5s 3ms/step - loss: 0.5254 - accuracy: 0.8747 - val_loss: 0.5925 - val_accuracy: 0.8538\n",
            "Epoch 27/30\n",
            "1875/1875 [==============================] - 5s 3ms/step - loss: 0.5254 - accuracy: 0.8726 - val_loss: 0.5780 - val_accuracy: 0.8526\n",
            "Epoch 28/30\n",
            "1875/1875 [==============================] - 6s 3ms/step - loss: 0.5205 - accuracy: 0.8766 - val_loss: 0.5867 - val_accuracy: 0.8559\n",
            "Epoch 29/30\n",
            "1875/1875 [==============================] - 6s 3ms/step - loss: 0.5281 - accuracy: 0.8740 - val_loss: 0.5781 - val_accuracy: 0.8548\n",
            "Epoch 30/30\n",
            "1875/1875 [==============================] - 6s 3ms/step - loss: 0.5202 - accuracy: 0.8765 - val_loss: 0.5795 - val_accuracy: 0.8553\n",
            "Total training time = 165.3018571980001\n"
          ]
        }
      ]
    },
    {
      "cell_type": "code",
      "metadata": {
        "id": "JF3P10kSzEMk",
        "colab": {
          "base_uri": "https://localhost:8080/",
          "height": 296
        },
        "outputId": "8d433b4d-3089-4935-e484-db463628722c"
      },
      "source": [
        "plt.plot(model_history.history['loss'],label='Training Loss')\n",
        "plt.plot(model_history.history['val_loss'],label='Validation Loss')\n",
        "plt.xlabel('Epochs')\n",
        "plt.ylabel('Loss')\n",
        "plt.legend()"
      ],
      "execution_count": null,
      "outputs": [
        {
          "output_type": "execute_result",
          "data": {
            "text/plain": [
              "<matplotlib.legend.Legend at 0x7f16fae33fd0>"
            ]
          },
          "metadata": {},
          "execution_count": 15
        },
        {
          "output_type": "display_data",
          "data": {
            "image/png": "[encoded data removed]",
            "text/plain": [
              "<Figure size 432x288 with 1 Axes>"
            ]
          },
          "metadata": {
            "needs_background": "light"
          }
        }
      ]
    },
    {
      "cell_type": "code",
      "metadata": {
        "id": "SzMJfbHgzp-h",
        "colab": {
          "base_uri": "https://localhost:8080/",
          "height": 296
        },
        "outputId": "4628d177-280c-48a4-e431-8c2f633f9681"
      },
      "source": [
        "plt.plot(model_history.history['accuracy'],label='Training Accuracy')\n",
        "plt.plot(model_history.history['val_accuracy'],label='Validation Accuracy')\n",
        "plt.xlabel('Epochs')\n",
        "plt.ylabel('Accuracy')\n",
        "plt.legend()"
      ],
      "execution_count": null,
      "outputs": [
        {
          "output_type": "execute_result",
          "data": {
            "text/plain": [
              "<matplotlib.legend.Legend at 0x7f16fc735d50>"
            ]
          },
          "metadata": {},
          "execution_count": 16
        },
        {
          "output_type": "display_data",
          "data": {
            "image/png": "[encoded data removed]",
            "text/plain": [
              "<Figure size 432x288 with 1 Axes>"
            ]
          },
          "metadata": {
            "needs_background": "light"
          }
        }
      ]
    }
  ]
}